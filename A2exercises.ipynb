{
 "cells": [
  {
   "cell_type": "code",
   "execution_count": 1,
   "id": "9eb16f94",
   "metadata": {},
   "outputs": [
    {
     "name": "stdout",
     "output_type": "stream",
     "text": [
      "Hello World\n"
     ]
    }
   ],
   "source": [
    "print(\"Hello World\")"
   ]
  },
  {
   "cell_type": "code",
   "execution_count": null,
   "id": "49e5e85e",
   "metadata": {},
   "outputs": [],
   "source": [
    "a = input(\"Enter string: \")\n",
    "\n",
    "# Program to check if a number is prime or not\n"
   ]
  },
  {
   "cell_type": "code",
   "execution_count": null,
   "id": "5da7c4dd",
   "metadata": {},
   "outputs": [],
   "source": [
    "# question 1\n",
    "num1 = 20\n",
    "num2 = 30\n",
    "print(\"Addition of two numbers are: \", num1 + num2)"
   ]
  },
  {
   "cell_type": "code",
   "execution_count": 11,
   "id": "9ffe056a",
   "metadata": {},
   "outputs": [
    {
     "name": "stdout",
     "output_type": "stream",
     "text": [
      "The module is:  16\n"
     ]
    }
   ],
   "source": [
    "# question 2\n",
    "num1 = 60\n",
    "num2 = 22\n",
    "print(\"The module is: \", num1%num2)"
   ]
  },
  {
   "cell_type": "code",
   "execution_count": 5,
   "id": "6f4262b8",
   "metadata": {},
   "outputs": [
    {
     "name": "stdout",
     "output_type": "stream",
     "text": [
      "True\n"
     ]
    }
   ],
   "source": [
    "# question 3\n",
    "a = 45\n",
    "b = 34\n",
    "print(a>b)"
   ]
  },
  {
   "cell_type": "code",
   "execution_count": 9,
   "id": "72f16baa",
   "metadata": {},
   "outputs": [
    {
     "name": "stdout",
     "output_type": "stream",
     "text": [
      "enter num1: 6\n",
      "enter num2: 7\n",
      "6.5\n"
     ]
    }
   ],
   "source": [
    "# question 4\n",
    "a = input(\"enter num1: \")\n",
    "a = int(a)\n",
    "b = input(\"enter num2: \")\n",
    "b = int(b)\n",
    "c = (a+b) / 2\n",
    "print(c)"
   ]
  },
  {
   "cell_type": "code",
   "execution_count": 1,
   "id": "06f6c404",
   "metadata": {},
   "outputs": [
    {
     "name": "stdout",
     "output_type": "stream",
     "text": [
      "Enter number: 8\n",
      "Square of  8  is:  64\n"
     ]
    }
   ],
   "source": [
    "# question 5\n",
    "n = input(\"Enter number: \")\n",
    "n = int(n)\n",
    "print(\"Square of \", n, \" is: \", n*n)"
   ]
  },
  {
   "cell_type": "code",
   "execution_count": 3,
   "id": "8e529676",
   "metadata": {},
   "outputs": [
    {
     "name": "stdout",
     "output_type": "stream",
     "text": [
      "Enter name: tooba\n",
      "Good Morning tooba\n"
     ]
    }
   ],
   "source": [
    "# String practice seta\n",
    "# question 6\n",
    "name = input(\"Enter name: \")\n",
    "print(\"Good Morning \"+ name)"
   ]
  },
  {
   "cell_type": "code",
   "execution_count": 1,
   "id": "d173f4bc",
   "metadata": {},
   "outputs": [
    {
     "name": "stdout",
     "output_type": "stream",
     "text": [
      "Enter name:\n",
      " uih\n",
      "Enter date:\n",
      " 890\n",
      "Dear uih\n",
      "     Greetings from ABC coding house. I am happy to tell about Your selection.\n",
      "     You are selected!\n",
      "     Have a great day ahead!\n",
      "     Thanks and regards,\n",
      "     890\n"
     ]
    }
   ],
   "source": [
    "# question 7\n",
    "letter = '''Dear <|NAME|>\n",
    "     Greetings from ABC coding house. I am happy to tell about Your selection.\n",
    "     You are selected!\n",
    "     Have a great day ahead!\n",
    "     Thanks and regards,\n",
    "     <|DATE|>'''\n",
    "name = input(\"Enter name:\\n \")\n",
    "date = input(\"Enter date:\\n \")\n",
    "letter = letter.replace(\"<|NAME|>\", name)\n",
    "letter = letter.replace(\"<|DATE|>\", date)\n",
    "print(letter)"
   ]
  },
  {
   "cell_type": "code",
   "execution_count": 17,
   "id": "d118fcd0",
   "metadata": {},
   "outputs": [
    {
     "name": "stdout",
     "output_type": "stream",
     "text": [
      "28\n",
      "This is a string with double spaces\n"
     ]
    }
   ],
   "source": [
    "# question 8\n",
    "st = \"This is a string with double  spaces\"\n",
    "print(st.find(\"  \"))\n",
    "print(st.replace(\"  \", \" \"))"
   ]
  },
  {
   "cell_type": "code",
   "execution_count": 22,
   "id": "2ccc1116",
   "metadata": {},
   "outputs": [
    {
     "name": "stdout",
     "output_type": "stream",
     "text": [
      "Dear Tooba,\n",
      "\tThis course is nice!\n",
      "Thanks! \n"
     ]
    }
   ],
   "source": [
    "# question 9\n",
    "letter = \"Dear Tooba,\\n\\tThis course is nice!\\nThanks! \"\n",
    "print(letter);"
   ]
  },
  {
   "cell_type": "code",
   "execution_count": 1,
   "id": "9faae469",
   "metadata": {},
   "outputs": [
    {
     "name": "stdout",
     "output_type": "stream",
     "text": [
      "Enter first fruit: banana\n",
      "Enter second fruit: mango\n",
      "Enter third fruit: apple\n",
      "Enter forth fruit: grapes\n",
      "Enter five fruit: strawberry\n"
     ]
    }
   ],
   "source": [
    "# practice set of list and tuples\n",
    "# question 10\n",
    "f1 = input(\"Enter first fruit: \")\n",
    "f2 = input(\"Enter second fruit: \")\n",
    "f3 = input(\"Enter third fruit: \")\n",
    "f4 = input(\"Enter forth fruit: \")\n",
    "f5 = input(\"Enter five fruit: \")\n",
    "\n",
    "fruits = [f1, f2, f3, f4, f5]\n"
   ]
  },
  {
   "cell_type": "code",
   "execution_count": 12,
   "id": "2cb44e20",
   "metadata": {},
   "outputs": [
    {
     "name": "stdout",
     "output_type": "stream",
     "text": [
      "[78, 89, 67, 75, 84, 54]\n",
      "Students marks in sirted or sequence:  [54, 67, 75, 78, 84, 89]\n"
     ]
    }
   ],
   "source": [
    "# question 11\n",
    "students = [78, 89, 67, 75, 84, 54]\n",
    "print(students)\n",
    "students.sort()\n",
    "print(\"Students marks in sirted or sequence: \", students)"
   ]
  },
  {
   "cell_type": "code",
   "execution_count": 15,
   "id": "99bf7535",
   "metadata": {},
   "outputs": [],
   "source": [
    "# question 12\n",
    "# tupple is immutable which is cannot be change\n",
    "t1 = (1, 4 , 7, 9, 8)\n",
    "# t1[2] = 6 --> throws an error"
   ]
  },
  {
   "cell_type": "code",
   "execution_count": 21,
   "id": "f8a1ea3a",
   "metadata": {},
   "outputs": [
    {
     "name": "stdout",
     "output_type": "stream",
     "text": [
      "26\n"
     ]
    }
   ],
   "source": [
    "# question 13\n",
    "num = [6, 7, 8, 5]\n",
    "print(num[0] + num[1]  + num[2] + num[3])\n",
    "# sum(num)"
   ]
  },
  {
   "cell_type": "code",
   "execution_count": 22,
   "id": "30331bfd",
   "metadata": {},
   "outputs": [
    {
     "name": "stdout",
     "output_type": "stream",
     "text": [
      "4\n"
     ]
    }
   ],
   "source": [
    "# question 13 count nummber of zeros in tuple\n",
    "num = (2, 7, 0, 56, 0, 7, 0, 78, 0)\n",
    "print(num.count(0))"
   ]
  },
  {
   "cell_type": "code",
   "execution_count": null,
   "id": "bce57107",
   "metadata": {},
   "outputs": [],
   "source": [
    "# question no 14\n",
    "num1 = int(input(\"Enter first num: \"))\n",
    "num2 = int(input(\"Enter second num: \"))\n",
    "num3 = int(input(\"Enter third num: \"))\n",
    "num4 = int(input(\"Enter forth num: \"))\n",
    "if(num1>num2 and num1>num3 and num1>num4):\n",
    "    print(num1)\n",
    "elif(num2>num1 and num2>num3 and num1>num4):\n",
    "    print(num2)\n",
    "elif(num3>num1 and num3>num2 and num3>num4):\n",
    "    print(num3)\n",
    "elif(num4>num1 and num4>num2 and num4>num3):\n",
    "    print(num4)\n",
    "else:\n",
    "    print(\"Nothing\")"
   ]
  },
  {
   "cell_type": "code",
   "execution_count": 4,
   "id": "70a6afb2",
   "metadata": {},
   "outputs": [
    {
     "name": "stdout",
     "output_type": "stream",
     "text": [
      "Enter marks of subject 1: 78\n",
      "Enter marks of subject 2: 98\n",
      "Enter marks of subject 3: 90\n",
      "Congratulations! your passed\n"
     ]
    }
   ],
   "source": [
    "# question 15\n",
    "sub1 = int(input(\"Enter marks of subject 1: \"))\n",
    "sub2 = int(input(\"Enter marks of subject 2: \"))\n",
    "sub3 = int(input(\"Enter marks of subject 3: \"))\n",
    "if(sub1 < 33 or sub2 < 33 or sub3 < 33):\n",
    "    print(\"You are fail\")\n",
    "    \n",
    "\n",
    "if(sub1+sub2+sub3)/3 <40:\n",
    "    print(\"You are fail due to less percentage of all subjects\")\n",
    "else:\n",
    "    print(\"Congratulations! your passed\")"
   ]
  },
  {
   "cell_type": "code",
   "execution_count": 10,
   "id": "7a7f7819",
   "metadata": {},
   "outputs": [
    {
     "name": "stdout",
     "output_type": "stream",
     "text": [
      "Enter text: make a lot of money\n",
      "This is spam text\n"
     ]
    }
   ],
   "source": [
    "# question no 16\n",
    "text = input(\"Enter text: \")\n",
    "spam = True\n",
    "\n",
    "if(\"make a lot of money\" in text):\n",
    "    spam = True\n",
    "elif(\"buy now\" in text):\n",
    "    spam = True\n",
    "elif(\"subscribe this\" in text):\n",
    "    spam = True\n",
    "elif(\"click this\" in text):\n",
    "    spam = True\n",
    "else:\n",
    "    spam = False\n",
    "    \n",
    "if(spam):\n",
    "    print(\"This is spam text\")\n",
    "else:\n",
    "    print(\"This is not spam text\")"
   ]
  },
  {
   "cell_type": "code",
   "execution_count": 14,
   "id": "592d6f5a",
   "metadata": {},
   "outputs": [
    {
     "name": "stdout",
     "output_type": "stream",
     "text": [
      "Enter name: mubhAA\n",
      " Yes, User name is less than 10 character\n"
     ]
    }
   ],
   "source": [
    "# question no 17\n",
    "userName = input(\"Enter name: \")\n",
    "\n",
    "if(len(userName) < 10):\n",
    "    print(\" Yes, User name is less than 10 character\")\n",
    "else:\n",
    "    print(\"No, User name contain greater than 10 character\")\n",
    "    "
   ]
  },
  {
   "cell_type": "code",
   "execution_count": 25,
   "id": "f04fe978",
   "metadata": {},
   "outputs": [
    {
     "name": "stdout",
     "output_type": "stream",
     "text": [
      "Enter name to check it is in list or notsana\n",
      "No this name is not present in the list\n"
     ]
    }
   ],
   "source": [
    "# question no 18\n",
    "names = [\"harry\", \"tooba\", \"noor\", \"saba\", \"mano\", \"maha\"]\n",
    "name = input(\"Enter name to check it is in list or not\")\n",
    "\n",
    "if(name in names):\n",
    "    print(\"Yes, \", name, \" is present in the list\")\n",
    "else:\n",
    "    print(\"No this name is not present in the list\")\n"
   ]
  },
  {
   "cell_type": "code",
   "execution_count": 33,
   "id": "8efd4ba7",
   "metadata": {},
   "outputs": [
    {
     "name": "stdout",
     "output_type": "stream",
     "text": [
      "Enter your marks\n",
      "80\n",
      "Your grade is: A\n"
     ]
    }
   ],
   "source": [
    "# question no 19 --> calculate the grade of student\n",
    "marks = int(input(\"Enter your marks\\n\"))\n",
    "\n",
    "if(marks >= 90):\n",
    "    grade = \"Excelent\"\n",
    "elif(marks >= 80):\n",
    "    grade = \"A\"\n",
    "elif(marks >= 70):\n",
    "    grade = \"B\"\n",
    "elif(marks >= 60):\n",
    "    grade = \"C\"\n",
    "elif(marks >= 50):\n",
    "    grade = \"D\"\n",
    "else:\n",
    "    grade =\"F\"\n",
    "    \n",
    "print(\"Your grade is: \"+ grade)"
   ]
  },
  {
   "cell_type": "code",
   "execution_count": 10,
   "id": "a851f5cc",
   "metadata": {},
   "outputs": [
    {
     "name": "stdout",
     "output_type": "stream",
     "text": [
      "Enter table4\n",
      "4X1=4\n",
      "4X2=8\n",
      "4X3=12\n",
      "4X4=16\n",
      "4X5=20\n",
      "4X6=24\n",
      "4X7=28\n",
      "4X8=32\n",
      "4X9=36\n",
      "4X10=40\n"
     ]
    }
   ],
   "source": [
    "# practice set of loops\n",
    "# question 20\n",
    "table = int(input(\"Enter table\"))\n",
    "for i in range(1,11):\n",
    "#     print(str(table) + \"X\" + str(i) + \"=\" + str(i*table))\n",
    "    print(f\"{table}X{i}={table*i}\")"
   ]
  },
  {
   "cell_type": "code",
   "execution_count": 12,
   "id": "ff8e9403",
   "metadata": {},
   "outputs": [
    {
     "name": "stdout",
     "output_type": "stream",
     "text": [
      "Hello saba\n",
      "Hello sana\n",
      "Hello sakina\n"
     ]
    }
   ],
   "source": [
    "# question 21\n",
    "l1 = [\"saba\", \"sana\", \"Tooba\", \"sakina\"]\n",
    "for name in l1:\n",
    "    if(name.startswith('s')):\n",
    "        print(\"Hello \" + name)"
   ]
  },
  {
   "cell_type": "code",
   "execution_count": 13,
   "id": "470456f8",
   "metadata": {},
   "outputs": [
    {
     "name": "stdout",
     "output_type": "stream",
     "text": [
      "Enter table5\n",
      "5X1=5\n",
      "5X2=10\n",
      "5X3=15\n",
      "5X4=20\n",
      "5X5=25\n",
      "5X6=30\n",
      "5X7=35\n",
      "5X8=40\n",
      "5X9=45\n",
      "5X10=50\n"
     ]
    }
   ],
   "source": [
    "# question 22\n",
    "table = int(input(\"Enter table\"))\n",
    "i = 1\n",
    "while(i<=10):\n",
    "    print(f\"{table}X{i}={table*i}\")\n",
    "    i = i + 1"
   ]
  },
  {
   "cell_type": "code",
   "execution_count": 23,
   "id": "23c3616c",
   "metadata": {},
   "outputs": [
    {
     "name": "stdout",
     "output_type": "stream",
     "text": [
      "Enter the number: 3\n",
      "This is prime number\n"
     ]
    }
   ],
   "source": [
    "# question 23 prime number\n",
    "num = int(input(\"Enter the number: \"))\n",
    "prime = True\n",
    "for i in range(2, num):\n",
    "    if(num%i == 0):\n",
    "        prime = False\n",
    "        break\n",
    "        \n",
    "if prime:\n",
    "    print(\"This is prime number\")\n",
    "else:\n",
    "    print(\"This is not prime num\")"
   ]
  },
  {
   "cell_type": "code",
   "execution_count": 31,
   "id": "214cbf80",
   "metadata": {},
   "outputs": [
    {
     "name": "stdout",
     "output_type": "stream",
     "text": [
      "Enter number: 6\n",
      "Factorial of 6 is 720\n"
     ]
    }
   ],
   "source": [
    "# question 24 factorial of a number\n",
    "num = int(input(\"Enter number: \"))\n",
    "factorial = 1\n",
    "\n",
    "for i in range(1, num+1):\n",
    "    factorial = factorial * i\n",
    "print(f\"Factorial of {num} is {factorial}\")"
   ]
  },
  {
   "cell_type": "code",
   "execution_count": 37,
   "id": "6a208dfe",
   "metadata": {},
   "outputs": [
    {
     "name": "stdout",
     "output_type": "stream",
     "text": [
      "*\n",
      "**\n",
      "***\n",
      "****\n"
     ]
    }
   ],
   "source": [
    "# question 25\n",
    "for i in range(4):\n",
    "    print(\"*\" * (i+1))"
   ]
  },
  {
   "cell_type": "code",
   "execution_count": 7,
   "id": "cbec3b6d",
   "metadata": {},
   "outputs": [
    {
     "name": "stdout",
     "output_type": "stream",
     "text": [
      "  *  \n",
      " *** \n",
      "*****\n"
     ]
    }
   ],
   "source": [
    "# question 26\n",
    "n = 3\n",
    "for i in range(3): # for raws\n",
    "    print(\" \" * (n-i-1), end=\"\")\n",
    "    print(\"*\" * (2*i+1), end=\"\")\n",
    "    print(\" \" * (n-i-1))"
   ]
  },
  {
   "cell_type": "code",
   "execution_count": 2,
   "id": "be2bf75a",
   "metadata": {
    "scrolled": true
   },
   "outputs": [
    {
     "name": "stdout",
     "output_type": "stream",
     "text": [
      "Enter table which you want: 8\n",
      "8X1=8\n",
      "8X2=16\n",
      "8X3=24\n",
      "8X4=32\n",
      "8X5=40\n",
      "8X6=48\n",
      "8X7=56\n",
      "8X8=64\n",
      "8X9=72\n",
      "8X10=80\n"
     ]
    }
   ],
   "source": [
    "# question 27 table in reverse order using loop\n",
    "num = int(input(\"Enter table which you want: \"))\n",
    "for i in range(1, 11):\n",
    "    print(f\"{num}X{i}={num*i}\")"
   ]
  },
  {
   "cell_type": "code",
   "execution_count": 8,
   "id": "45ca9a50",
   "metadata": {},
   "outputs": [
    {
     "name": "stdout",
     "output_type": "stream",
     "text": [
      "The greater number is: None\n"
     ]
    }
   ],
   "source": [
    "# chapter 8 practice set function and recursion\n",
    "# question 28\n",
    "def greater(num1, num2, num3):\n",
    "    if(num1>num2 and num1>num3):\n",
    "        return num1\n",
    "    elif(num2>num2 and num2>num3):\n",
    "        return num2\n",
    "    elif(num3>num1 and num3>num2):\n",
    "        return num3\n",
    "        \n",
    "\n",
    "print(\"The greater number is: \", greater(6, 8, 5))\n"
   ]
  },
  {
   "cell_type": "code",
   "execution_count": 3,
   "id": "9ec3ba0e",
   "metadata": {},
   "outputs": [
    {
     "name": "stdout",
     "output_type": "stream",
     "text": [
      "fahranheit:  96.8\n"
     ]
    }
   ],
   "source": [
    "# question 28 --> celcius to ferhelnite\n",
    "def fahren(celcius):\n",
    "    return (celcius *(9/5)) + 32 \n",
    "\n",
    "f = fahren(36)\n",
    "print(\"fahranheit: \" , f)"
   ]
  },
  {
   "cell_type": "code",
   "execution_count": 2,
   "id": "cc531618",
   "metadata": {},
   "outputs": [
    {
     "name": "stdout",
     "output_type": "stream",
     "text": [
      "Hello! \n",
      "How\n",
      "are\n",
      "you?\n",
      "Hello! How are you?"
     ]
    }
   ],
   "source": [
    "# question 29\n",
    "# end=\"\"  --> no new line\n",
    "print(\"Hello! \")\n",
    "print(\"How\")\n",
    "print(\"are\")\n",
    "print(\"you?\")\n",
    "\n",
    "print(\"Hello! \", end=\"\")\n",
    "print(\"How \", end=\"\")\n",
    "print(\"are \", end=\"\")\n",
    "print(\"you?\", end=\"\")"
   ]
  },
  {
   "cell_type": "code",
   "execution_count": null,
   "id": "601ba685",
   "metadata": {},
   "outputs": [],
   "source": [
    "# question 30 by recursion\n",
    "# sum = 0\n",
    "def naturalNum(n):\n",
    "    return naturalNum(n-1) + n \n",
    "\n",
    "print(naturalNum(5))"
   ]
  },
  {
   "cell_type": "code",
   "execution_count": 3,
   "id": "d8a21085",
   "metadata": {},
   "outputs": [
    {
     "name": "stdout",
     "output_type": "stream",
     "text": [
      "8X1=8\n",
      "8X2=16\n",
      "8X3=24\n",
      "8X4=32\n",
      "8X5=40\n",
      "8X6=48\n",
      "8X7=56\n",
      "8X8=64\n",
      "8X9=72\n",
      "8X10=80\n"
     ]
    }
   ],
   "source": [
    "# question 31\n",
    "def table(num):\n",
    "    for i in range(1, 11):\n",
    "        print(f\"{num}X{i}={num*i}\")\n",
    "\n",
    "table(8)"
   ]
  },
  {
   "cell_type": "code",
   "execution_count": 39,
   "id": "c3b407d5",
   "metadata": {},
   "outputs": [
    {
     "name": "stdout",
     "output_type": "stream",
     "text": [
      "Computer turn: Snack(s) Water(w) Gun(g)?\n",
      "3\n",
      "Your turn: Snack(1) Water(2) Gun(3)2\n",
      "Computer choose g\n",
      "You choose 2\n",
      "Game is tie!\n"
     ]
    }
   ],
   "source": [
    "# project 1\n",
    "# snack, gun and water game\n",
    "\n",
    "import random   # random value\n",
    "\n",
    "def gameWin(comp, you):\n",
    "    if comp == you:\n",
    "        return None\n",
    "    \n",
    "    if (comp == 's'): # comp snack\n",
    "        \n",
    "        if (you == 'w'):\n",
    "            return False\n",
    "        elif (you == 'g'):\n",
    "            return True\n",
    "    \n",
    "    elif (comp == 'w'): # comp water\n",
    "        \n",
    "        if(you == 's'):\n",
    "            return True\n",
    "        elif (you == 'g'):\n",
    "            return False\n",
    "    \n",
    "    elif (comp == 'g'):   #comp gun\n",
    "        \n",
    "        if (you == 's'):\n",
    "            return False\n",
    "        elif (you == 'w'):\n",
    "            return True\n",
    "        \n",
    "        \n",
    "comp = input(\"Computer turn: Snack(s) Water(w) Gun(g)?\")\n",
    "randomNo = random.randint(1, 3)  # random no by range like 1 or 2\n",
    "print(randomNo)\n",
    "if (randomNo == 1):\n",
    "    comp = 's'\n",
    "elif (randomNo == 2):\n",
    "    comp = 'w'\n",
    "elif (randomNo == 3):\n",
    "    comp = 'g'\n",
    "\n",
    "you = input(\"Your turn: Snack(1) Water(2) Gun(3)\")\n",
    "\n",
    "print(f\"Computer choose {comp}\")\n",
    "print(f\"You choose {you}\")\n",
    "\n",
    "a = gameWin(comp, you)\n",
    "\n",
    "if (a == None):\n",
    "    print(\"Game is tie!\")\n",
    "elif(a):\n",
    "    print(\"You won the game!\")\n",
    "else:\n",
    "    print(\"You lose the game!\")\n"
   ]
  },
  {
   "cell_type": "code",
   "execution_count": 3,
   "id": "27a1b262",
   "metadata": {},
   "outputs": [
    {
     "name": "stdout",
     "output_type": "stream",
     "text": [
      "Name of programmer is Tooba \n",
      "Product of programmer is YouTube and the copmany is Microsoft\n",
      "Name of programmer is Laiba \n",
      "Product of programmer is Skype and the copmany is Microsoft\n"
     ]
    }
   ],
   "source": [
    "# question no 32\n",
    "class Programmer:\n",
    "    company = \"Microsoft\"\n",
    "    def __init__(self, name, product):\n",
    "        self.name = name\n",
    "        self.product = product\n",
    "\n",
    "    def info(self):\n",
    "        print(f\"Name of programmer is {self.name} \\nProduct of programmer is {self.product} and the copmany is {self.company}\" )\n",
    "        \n",
    "        \n",
    "tooba = Programmer(\"Tooba\", \"YouTube\")\n",
    "laiba = Programmer(\"Laiba\", \"Skype\")\n",
    "tooba.info()\n",
    "laiba.info()"
   ]
  },
  {
   "cell_type": "code",
   "execution_count": 31,
   "id": "5da1ecd0",
   "metadata": {},
   "outputs": [
    {
     "name": "stdout",
     "output_type": "stream",
     "text": [
      "The square root of 3 is 9\n",
      "The cube root of 3 is 27\n",
      "The squre root of 3 is 1.7320508075688772\n"
     ]
    }
   ],
   "source": [
    "class Calculator:\n",
    "    def __init__(self, num):\n",
    "        self.num = num\n",
    "    \n",
    "    def square(self):\n",
    "        print(f\"The square root of {self.num} is {self.num ** 2}\")\n",
    "    \n",
    "    def cube(self):\n",
    "        print(f\"The cube root of {self.num} is {self.num ** 3}\")\n",
    "    \n",
    "    def squareRoot(self):\n",
    "        print(f\"The squre root of {self.num} is {self.num ** 0.5}\")\n",
    "    \n",
    "\n",
    "c = Calculator(3)\n",
    "c.square()\n",
    "c.cube()\n",
    "c.squareRoot()"
   ]
  },
  {
   "cell_type": "code",
   "execution_count": 51,
   "id": "fc26d9bd",
   "metadata": {},
   "outputs": [
    {
     "name": "stdout",
     "output_type": "stream",
     "text": [
      "10\n",
      "18\n",
      "10\n",
      "hello\n"
     ]
    }
   ],
   "source": [
    "class MyClass:\n",
    "    a = 10\n",
    "    \n",
    "    @staticmethod\n",
    "    def greet():\n",
    "        print(\"hello\")\n",
    "        \n",
    "obj = MyClass()\n",
    "print(MyClass.a)\n",
    "obj.a = 18\n",
    "print(a)\n",
    "print(MyClass.a)\n",
    "obj.greet()"
   ]
  },
  {
   "cell_type": "code",
   "execution_count": 7,
   "id": "3b53c294",
   "metadata": {},
   "outputs": [
    {
     "name": "stdout",
     "output_type": "stream",
     "text": [
      "The name of train is Intercity Express: 14015\n",
      "The seats of train are 10\n",
      "The price of the ticket is Rs 90\n",
      "Your tacket has been booked your seat number is 10\n",
      "The name of train is Intercity Express: 14015\n",
      "The seats of train are 9\n",
      "Your tacket has been booked your seat number is 9\n",
      "The name of train is Intercity Express: 14015\n",
      "The seats of train are 8\n"
     ]
    }
   ],
   "source": [
    "class Train:\n",
    "    def __init__(self, name, price, seats):\n",
    "        self.name = name\n",
    "        self.price = price\n",
    "        self.seats = seats\n",
    "        \n",
    "    def getstatus(self):\n",
    "        print(f\"The name of train is {self.name}\\nThe seats of train are {self.seats}\")\n",
    "\n",
    "    def priceInfo(self):\n",
    "        print(f\"The price of the ticket is Rs {self.price}\")\n",
    "    \n",
    "    def bookTicket(self):\n",
    "        if(self.seats > 0):\n",
    "            print(f\"Your tacket has been booked your seat number is {self.seats}\")\n",
    "            self.seats = self.seats - 1\n",
    "        else:\n",
    "            print(\"Sorry! this train is full\")\n",
    "\n",
    "    \n",
    "    \n",
    "intercity = Train(\"Intercity Express: 14015\", 90, 10)\n",
    "intercity.getstatus()\n",
    "intercity.priceInfo()\n",
    "intercity.bookTicket()\n",
    "intercity.getstatus()\n",
    "intercity.bookTicket()\n",
    "intercity.getstatus()\n"
   ]
  },
  {
   "cell_type": "code",
   "execution_count": 8,
   "id": "554fa048",
   "metadata": {},
   "outputs": [
    {
     "name": "stdout",
     "output_type": "stream",
     "text": [
      "1i + 3j\n",
      "1i + 9j + 7k\n"
     ]
    }
   ],
   "source": [
    "# inheritance practice set\n",
    "class C2dVec:\n",
    "    def __init__(self, i, j):\n",
    "        self.icap = i\n",
    "        self.jcap = j\n",
    "      \n",
    "    def __str__(self):\n",
    "        return f\"{self.icap}i + {self.jcap}j\"\n",
    "       \n",
    "\n",
    "        \n",
    "class C3dVec(C2dVec):\n",
    "    def __init__(self, i, j, k):\n",
    "        super().__init__(i, j)\n",
    "        self.kcap = k\n",
    "      \n",
    "    def __str__(self):\n",
    "        return f\"{self.icap}i + {self.jcap}j + {self.kcap}k\"\n",
    "    \n",
    "obj1v = C2dVec(1, 3)\n",
    "obj2v = C3dVec(1, 9, 7)\n",
    "\n",
    "print(obj1v)\n",
    "print(obj2v)"
   ]
  },
  {
   "cell_type": "code",
   "execution_count": 12,
   "id": "dd21f2af",
   "metadata": {},
   "outputs": [
    {
     "name": "stdout",
     "output_type": "stream",
     "text": [
      "Mammal\n",
      "White\n",
      "Dog is barking\n"
     ]
    }
   ],
   "source": [
    "class Animal:\n",
    "    animalType = \"Mammal\"\n",
    "    \n",
    "\n",
    "class Pets(Animal):\n",
    "    petType = \"White\"\n",
    "\n",
    "class Dog(Pets):\n",
    "    def bark(self):\n",
    "        print(\"Dog is barking\")\n",
    "        \n",
    "d = Dog()\n",
    "print(d.animalType)\n",
    "print(d.petType)\n",
    "d.bark()"
   ]
  },
  {
   "cell_type": "code",
   "execution_count": 26,
   "id": "2b419858",
   "metadata": {},
   "outputs": [
    {
     "name": "stdout",
     "output_type": "stream",
     "text": [
      "1500.0\n",
      "1.5\n",
      "2.0\n"
     ]
    }
   ],
   "source": [
    "class Employee:\n",
    "    salary = 1000\n",
    "    increment = 1.5\n",
    "    \n",
    "    @property\n",
    "    def salaryAfterIncrement(self):\n",
    "        return self.salary * self.increment\n",
    "    \n",
    "    @salaryAfterIncrement.setter\n",
    "    def salaryAfterIncrement(self, sai):\n",
    "        self.increment = sai/self.salary\n",
    "    \n",
    "    \n",
    "e = Employee()\n",
    "print(e.salaryAfterIncrement)\n",
    "\n",
    "print(e.increment)\n",
    "e.salaryAfterIncrement = 2000\n",
    "print(e.increment)"
   ]
  },
  {
   "cell_type": "code",
   "execution_count": 31,
   "id": "345f2b7f",
   "metadata": {},
   "outputs": [
    {
     "ename": "SyntaxError",
     "evalue": "invalid syntax (877626571.py, line 2)",
     "output_type": "error",
     "traceback": [
      "\u001b[1;36m  Input \u001b[1;32mIn [31]\u001b[1;36m\u001b[0m\n\u001b[1;33m    class Complex:-\u001b[0m\n\u001b[1;37m                   ^\u001b[0m\n\u001b[1;31mSyntaxError\u001b[0m\u001b[1;31m:\u001b[0m invalid syntax\n"
     ]
    }
   ],
   "source": [
    "# multiplication of complex numbers\n",
    "class Complex:\n",
    "    def __init__(self, r, i):\n",
    "        self.real = r\n",
    "        self.imaginary = i\n",
    "        \n",
    "    def __add__(self, c):\n",
    "        return Complex(self.real + c.real, self.imaginary + c.imaginary)\n",
    "    \n",
    "    def __str__(self):\n",
    "        return f\"{self.real} + {self.imaginary}i \"\n",
    "        \n",
    "c1 = Complex(1, 4)\n",
    "c2 = Complex(8, 5)\n",
    "print(c1 + c2)"
   ]
  }
 ],
 "metadata": {
  "kernelspec": {
   "display_name": "Python 3 (ipykernel)",
   "language": "python",
   "name": "python3"
  },
  "language_info": {
   "codemirror_mode": {
    "name": "ipython",
    "version": 3
   },
   "file_extension": ".py",
   "mimetype": "text/x-python",
   "name": "python",
   "nbconvert_exporter": "python",
   "pygments_lexer": "ipython3",
   "version": "3.10.2"
  }
 },
 "nbformat": 4,
 "nbformat_minor": 5
}
