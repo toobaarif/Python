{
 "cells": [
  {
   "cell_type": "code",
   "execution_count": 1,
   "id": "5d34fe01",
   "metadata": {},
   "outputs": [
    {
     "name": "stdout",
     "output_type": "stream",
     "text": [
      "Hello World\n"
     ]
    }
   ],
   "source": [
    "# chapter 1\n",
    "print(\"Hello World\")"
   ]
  },
  {
   "cell_type": "code",
   "execution_count": 3,
   "id": "33c3d17f",
   "metadata": {
    "scrolled": true
   },
   "outputs": [],
   "source": [
    "# Module --> use someone else code implement this code and use in your program\n",
    "# e.g: import os\n",
    "# built in modules --> already install\n",
    "# external modules --> need to install using pip"
   ]
  },
  {
   "cell_type": "code",
   "execution_count": 1,
   "id": "108b568c",
   "metadata": {},
   "outputs": [
    {
     "name": "stdout",
     "output_type": "stream",
     "text": [
      "Twinkle twinkle star \n",
      "    if you write alot line of code you can write \n",
      "      in triple quote to print \n"
     ]
    }
   ],
   "source": [
    "print('''Twinkle twinkle star \n",
    "    if you write alot line of code you can write \n",
    "      in triple quote to print ''')"
   ]
  },
  {
   "cell_type": "code",
   "execution_count": 1,
   "id": "7c6b5c0c",
   "metadata": {},
   "outputs": [
    {
     "name": "stdout",
     "output_type": "stream",
     "text": [
      "<class 'str'>\n",
      "<class 'int'>\n",
      "<class 'float'>\n",
      "tooba\n",
      "567\n",
      "67.9\n",
      "True\n"
     ]
    }
   ],
   "source": [
    "# variable and data types\n",
    "a = \"tooba\"\n",
    "b = 567\n",
    "c = 67.9\n",
    "d = True\n",
    "\n",
    "# printing the type of variabe\n",
    "print(type(a))\n",
    "print(type(b))\n",
    "print(type(c))\n",
    "\n",
    "print(a)\n",
    "print(b)\n",
    "print(c)\n",
    "print(d)\n"
   ]
  },
  {
   "cell_type": "code",
   "execution_count": 34,
   "id": "d1c1517e",
   "metadata": {},
   "outputs": [
    {
     "name": "stdout",
     "output_type": "stream",
     "text": [
      "The value of a+b is:  101\n",
      "The value of a+b is:  -33\n",
      "The value of a+b is:  2278\n",
      "The value of a+b is:  0.5074626865671642\n",
      "The value of a+b is:  34\n"
     ]
    }
   ],
   "source": [
    "# oprators\n",
    "num1 = 34\n",
    "num2 = 67\n",
    "print(\"The value of a+b is: \" , num1 + num2)\n",
    "print(\"The value of a-b is: \" , num1 - num2)\n",
    "print(\"The value of a*b is: \" , num1 * num2)\n",
    "print(\"The value of a/b is: \" , num1 / num2)\n",
    "print(\"The value of a%b is: \" , num1 % num2)"
   ]
  },
  {
   "cell_type": "code",
   "execution_count": 4,
   "id": "7b32112f",
   "metadata": {},
   "outputs": [
    {
     "name": "stdout",
     "output_type": "stream",
     "text": [
      "32\n",
      "56\n"
     ]
    }
   ],
   "source": [
    "print(str(32))\n",
    "print(int(\"56\"))"
   ]
  },
  {
   "cell_type": "code",
   "execution_count": 1,
   "id": "b6525a1f",
   "metadata": {},
   "outputs": [
    {
     "name": "stdout",
     "output_type": "stream",
     "text": [
      "Enter your name: tooba\n",
      "tooba\n",
      "Enter first number67\n",
      "Enter second number889\n",
      "Addintion of two numbers are:  956\n"
     ]
    }
   ],
   "source": [
    "# user input\n",
    "name = input(\"Enter your name: \")\n",
    "print(name)\n",
    "# print(type(name))\n",
    "i = input(\"Enter first number\")\n",
    "i = int(i)\n",
    "j = input(\"Enter second number\")\n",
    "j = int(j)\n",
    "print(\"Addintion of two numbers are: \", i + j)"
   ]
  },
  {
   "cell_type": "code",
   "execution_count": 7,
   "id": "2567b8d3",
   "metadata": {},
   "outputs": [
    {
     "name": "stdout",
     "output_type": "stream",
     "text": [
      "<class 'str'>\n",
      "<class 'int'>\n",
      "34\n",
      "Yor name is: Tooba\n",
      "Tooba's\n",
      "Tooba\n",
      "Tooba\n",
      "Tooba\n"
     ]
    }
   ],
   "source": [
    "# chapter 3 \n",
    "# String\n",
    "name = \"Tooba\"\n",
    "num = 34\n",
    "print(type(name))\n",
    "print(type(num))\n",
    "print(num)\n",
    "print(\"Yor name is:\", name)\n",
    "\n",
    "name1 = \"Tooba\"\n",
    "name2 = 'Tooba'\n",
    "name3 = '''Tooba'''\n",
    "name4 = \"Tooba's\"\n",
    "print(name4)\n",
    "print(name1)\n",
    "print(name2)\n",
    "print(name3)"
   ]
  },
  {
   "cell_type": "code",
   "execution_count": 1,
   "id": "00268bdb",
   "metadata": {},
   "outputs": [
    {
     "name": "stdout",
     "output_type": "stream",
     "text": [
      "b\n",
      "Slicing: Too\n"
     ]
    }
   ],
   "source": [
    "\n",
    "# name = \"Tooba\"\n",
    "# greeting = \"Good Morning \"\n",
    "# print(type(name))\n",
    "# print(greeting + name)\n",
    "# print(\"Hey \"+ name)\n",
    "\n",
    "nam = \"Tooba\"\n",
    "print(nam[3])\n",
    "print(\"Slicing: \"+ nam[0:3])\n"
   ]
  },
  {
   "cell_type": "code",
   "execution_count": 3,
   "id": "259cb95a",
   "metadata": {},
   "outputs": [
    {
     "name": "stdout",
     "output_type": "stream",
     "text": [
      "ob\n",
      "Toasod\n"
     ]
    }
   ],
   "source": [
    "# slicing skip num\n",
    "name = \"Tooba\"\n",
    "print(name[1:4:2]) # 1 to 3 but skip 2 index\n",
    "name = \"ToobaIsGood\" # after one second should be skip\n",
    "d = name[0::2]\n",
    "print(d)"
   ]
  },
  {
   "cell_type": "code",
   "execution_count": 27,
   "id": "7135e6e4",
   "metadata": {},
   "outputs": [
    {
     "name": "stdout",
     "output_type": "stream",
     "text": [
      "once upon a time there was a youtuber named harry who uploaded python course with notes\n",
      "nce upo\n",
      "87\n",
      "False\n",
      "True\n",
      "6\n",
      "Once upon a time there was a youtuber named harry who uploaded python course with notes\n",
      "38\n",
      "once from a time there was a youtuber named harry who uploaded python course with notes\n"
     ]
    }
   ],
   "source": [
    "# string funcions\n",
    "story = \"once upon a time there was a youtuber named harry who uploaded python course with notes\"\n",
    "print(story)\n",
    "\n",
    "print(story[1:8])\n",
    "print(len(story))\n",
    "print(story.endswith(\"ty\"))\n",
    "print(story.endswith(\"notes\"))\n",
    "print(story.count(\"a\"))\n",
    "print(story.capitalize())\n",
    "print(story.find(\"named\"))\n",
    "print(story.replace(\"upon\", \"from\"))"
   ]
  },
  {
   "cell_type": "code",
   "execution_count": 33,
   "id": "703f4ad4",
   "metadata": {},
   "outputs": [
    {
     "name": "stdout",
     "output_type": "stream",
     "text": [
      "Tooba is good.\n",
      " She is \tvery good \\\n"
     ]
    }
   ],
   "source": [
    "# escape sequences character\n",
    "name = \"Tooba is good.\\n She is \\tvery good \\\\\"\n",
    "print(name)"
   ]
  },
  {
   "cell_type": "code",
   "execution_count": 6,
   "id": "c481b2e6",
   "metadata": {},
   "outputs": [
    {
     "name": "stdout",
     "output_type": "stream",
     "text": [
      "[1, 2, 3, 4, 56]\n",
      "1\n",
      "2\n",
      "3\n",
      "56\n",
      "1\n",
      "2\n",
      "3\n",
      "4\n",
      "56\n",
      "[56, 2, 3, 4, 56]\n",
      "['Tooba', 45, 78, True, 89.8]\n"
     ]
    }
   ],
   "source": [
    "# chapter 4\n",
    "# Lists and Tuples\n",
    "\n",
    "# List ==> Create list\n",
    "a = [1, 2, 3, 4, 56] # print same as\n",
    "print(a) # print all list using print() function\n",
    "\n",
    "#  Access list using index\n",
    "print(a[0])\n",
    "print(a[1])\n",
    "print(a[2])\n",
    "print(a[4])\n",
    "\n",
    "for items in a:\n",
    "    print(items)\n",
    "\n",
    "# Can change or override list item by index\n",
    "a[0] = 56\n",
    "print(a)\n",
    "\n",
    "# We can create a list using different types\n",
    "a1 = [\"Tooba\", 45, 78, True, 89.8]\n",
    "print(a1)\n"
   ]
  },
  {
   "cell_type": "code",
   "execution_count": 4,
   "id": "4d2dca71",
   "metadata": {},
   "outputs": [
    {
     "name": "stdout",
     "output_type": "stream",
     "text": [
      "['Tooba', 'Harry', 'Noor', 'Laiba']\n",
      "['Noor', 'Laiba', 'Marwa', 45]\n",
      "['Tooba', 'Harry', 'Noor']\n"
     ]
    }
   ],
   "source": [
    "# list funcctions\n",
    "# slicing\n",
    "friends = [\"Tooba\", \"Harry\", \"Noor\", \"Laiba\", \"Marwa\", 45]\n",
    "print(friends[0:4])\n",
    "print(friends[2:])\n",
    "print(friends[:3])\n"
   ]
  },
  {
   "cell_type": "code",
   "execution_count": 1,
   "id": "bb2eb105",
   "metadata": {},
   "outputs": [
    {
     "name": "stdout",
     "output_type": "stream",
     "text": [
      "[3, 4, 7, 8, 9, 2, 6]\n",
      "[2, 3, 4, 6, 7, 8, 9]\n",
      "[9, 8, 7, 6, 4, 3, 2]\n",
      "[9, 8, 7, 6, 4, 3, 2, 5]\n",
      "[9, 8, 7, 0, 6, 4, 3, 2, 5]\n",
      "[9, 8, 7, 6, 4, 3, 2, 5]\n",
      "[9, 7, 6, 4, 3, 2, 5]\n"
     ]
    }
   ],
   "source": [
    "# list methods\n",
    "# for any method and query search python doc in google\n",
    "l1 = [3, 4, 7, 8, 9, 2, 6]\n",
    "print(l1)\n",
    "\n",
    "# .sort() --> Sort seq the list\n",
    "l1.sort()\n",
    "print(l1)\n",
    "\n",
    "# .reverse() --> Reverse the list\n",
    "l1.reverse()\n",
    "print(l1)\n",
    "\n",
    "# .append(5) --> add this element in last of the list\n",
    "l1.append(5) # add 5 at the end of list\n",
    "print(l1)\n",
    "\n",
    "# .insert(3, 0)  --> add 0 in index 3\n",
    "l1.insert(3, 0)\n",
    "print(l1)\n",
    "\n",
    "# .pop() --> remove element from this index\n",
    "l1.pop(3)\n",
    "print(l1)\n",
    "\n",
    "# .remove() --> remove this element\n",
    "l1.remove(8)\n",
    "print(l1)"
   ]
  },
  {
   "cell_type": "code",
   "execution_count": 2,
   "id": "1bd86309",
   "metadata": {},
   "outputs": [
    {
     "name": "stdout",
     "output_type": "stream",
     "text": [
      "(1, 2, 3, 5)\n",
      "3\n",
      "(6, 5, 4, 8, 9, 3, 2, 8, 4, 8)\n",
      "3\n",
      "5\n"
     ]
    }
   ],
   "source": [
    "# Tuples store elemnts in ()\n",
    "# tuples is immutable we cannot update the value of tuples e.g: t[0] = 45\n",
    "\n",
    "t = (1,2,3,5)\n",
    "print(t)\n",
    "print(t[2])\n",
    "\n",
    "# Tuple methods\n",
    "t1 = (6, 5, 4, 8, 9, 3, 2, 8, 4, 8)\n",
    "print(t1)\n",
    "print(t1.count(8)) # count number of 8 in this tuple \n",
    "print(t1.index(3)) # search index of this element"
   ]
  },
  {
   "cell_type": "code",
   "execution_count": 11,
   "id": "8ad8bca1",
   "metadata": {
    "scrolled": true
   },
   "outputs": [
    {
     "name": "stdout",
     "output_type": "stream",
     "text": [
      "In a quick manner\n",
      "A coder\n",
      "[5, 6, 4, 2, 3]\n",
      "[1, 2, 4, 7]\n"
     ]
    }
   ],
   "source": [
    "# chapter 5\n",
    "# dictionary and sets\n",
    "# dictionary --> collection of key and value pairs\n",
    "myDic = {\n",
    "    \"Fast\": \"In a quick manner\",\n",
    "    \"Tooba\": \"A coder\",\n",
    "    \"laiba\": \"A teacher\",\n",
    "    \"Marks\": [5, 6, 4, 2, 3]\n",
    "}\n",
    "# It is print value in the syntax like\n",
    "print(myDic['Fast'])\n",
    "print(myDic['Tooba'])\n",
    "print(myDic['Marks'])\n",
    "\n",
    "# properties of python dictionary\n",
    "# unorder\n",
    "# mutable --> can change\n",
    "myDic['Marks'] = [1,2,4,7]\n",
    "print(myDic['Marks'])\n",
    "# indexed\n",
    "# cannot contain duplicate keys"
   ]
  },
  {
   "cell_type": "code",
   "execution_count": 20,
   "id": "e0e7a3f8",
   "metadata": {},
   "outputs": [
    {
     "name": "stdout",
     "output_type": "stream",
     "text": [
      "<class 'dict'>\n",
      "dict_keys(['fast', 'tooba', 'laiba', 'marks', 9])\n",
      "dict_values(['In a quick manner', 'A coder', 'A teacher', [5, 6, 4, 2, 3], 5])\n"
     ]
    }
   ],
   "source": [
    "# Methods of dictionary\n",
    "myDic = {\n",
    "    \"fast\": \"In a quick manner\",\n",
    "    \"tooba\": \"A coder\",\n",
    "    \"laiba\": \"A teacher\",\n",
    "    \"marks\": [5, 6, 4, 2, 3],\n",
    "    9: 5\n",
    "}\n",
    "print(type(myDic))\n",
    "print(myDic.keys()) # print the keys\n",
    "print(myDic.values()) # peint the values\n"
   ]
  },
  {
   "cell_type": "code",
   "execution_count": 19,
   "id": "b1419ba5",
   "metadata": {},
   "outputs": [
    {
     "name": "stdout",
     "output_type": "stream",
     "text": [
      "<class 'set'>\n",
      "{1, 2, 4, 6, 7}\n"
     ]
    }
   ],
   "source": [
    "# Set --> cannot execute repeated items OR set is the collection of non repeated elements\n",
    "sets = {1, 2, 4, 6, 7, 6} # 6 prints only one time\n",
    "print(type(sets))\n",
    "print(sets)"
   ]
  },
  {
   "cell_type": "code",
   "execution_count": null,
   "id": "97489ba4",
   "metadata": {},
   "outputs": [],
   "source": [
    "# Chapter 6\n",
    "# If elif else (elif --> else if)\n",
    "num = int(input(\"Enter number: \"))\n",
    "if(num<=10):\n",
    "    print(\"num is less than 10\")\n",
    "elif(num<=20):\n",
    "        print(\"num is less than 20\")\n",
    "elif(num<=30):\n",
    "            print(\"num is less than 30\")\n",
    "else:\n",
    "                print(\"nothing\")\n",
    "print(\"Done\")        "
   ]
  },
  {
   "cell_type": "code",
   "execution_count": 20,
   "id": "ed66255c",
   "metadata": {},
   "outputs": [
    {
     "name": "stdout",
     "output_type": "stream",
     "text": [
      "enter your age18\n",
      "You are absolute young\n"
     ]
    }
   ],
   "source": [
    "# quick quiz of if else\n",
    "age = int(input(\"enter your age\"))\n",
    "if(age<18):\n",
    "    print(\"You are pretty young\")\n",
    "elif(age<22):\n",
    "    print(\"You are absolute young\")\n",
    "elif(age<26):\n",
    "    print(\"You are meture\")\n",
    "elif(age<30):\n",
    "    print(\"You are gettinng married\")\n",
    "else:\n",
    "    print(\"You want some rest\")"
   ]
  },
  {
   "cell_type": "code",
   "execution_count": null,
   "id": "c1f6e445",
   "metadata": {},
   "outputs": [],
   "source": [
    "# relational operator\n",
    "age = int(input(\"Enter age\"))\n",
    "if(age>=10 and age>=20):\n",
    "    print(\"you cannot getting marry\")\n",
    "elif(age>=21 or age>=30):\n",
    "    print (\"You can get marry\")"
   ]
  },
  {
   "cell_type": "code",
   "execution_count": 23,
   "id": "dc4c5684",
   "metadata": {},
   "outputs": [
    {
     "name": "stdout",
     "output_type": "stream",
     "text": [
      "1\n",
      "2\n",
      "3\n",
      "4\n",
      "5\n",
      "6\n",
      "7\n",
      "8\n",
      "9\n",
      "10\n"
     ]
    }
   ],
   "source": [
    "# chapter 7 --> loops\n",
    "# while loop\n",
    "i = 1\n",
    "while (i<=10):\n",
    "    print(i)\n",
    "    i = i+1\n",
    "    "
   ]
  },
  {
   "cell_type": "code",
   "execution_count": 24,
   "id": "ec697b1b",
   "metadata": {},
   "outputs": [
    {
     "name": "stdout",
     "output_type": "stream",
     "text": [
      "1\n",
      "2\n",
      "3\n",
      "4\n",
      "5\n"
     ]
    }
   ],
   "source": [
    "# quick quiz\n",
    "i = 1\n",
    "while(i<=5):\n",
    "    print(i)\n",
    "    i = i+1\n"
   ]
  },
  {
   "cell_type": "code",
   "execution_count": 26,
   "id": "dff00f23",
   "metadata": {},
   "outputs": [
    {
     "name": "stdout",
     "output_type": "stream",
     "text": [
      "banana\n",
      "mango\n",
      "apple\n",
      "grapes\n",
      "watermelon\n"
     ]
    }
   ],
   "source": [
    "# content of list using while loop\n",
    "fruits = [\"banana\", \"mango\", \"apple\", \"grapes\", \"watermelon\"]\n",
    "i = 0\n",
    "while(i<len(fruits)):\n",
    "    print(fruits[i])\n",
    "    i = i+1"
   ]
  },
  {
   "cell_type": "code",
   "execution_count": 6,
   "id": "59c486ca",
   "metadata": {},
   "outputs": [
    {
     "name": "stdout",
     "output_type": "stream",
     "text": [
      "banana\n",
      "mango\n",
      "apple\n",
      "grapes\n",
      "watermelon\n"
     ]
    }
   ],
   "source": [
    "# for loop\n",
    "fruits = [\"banana\", \"mango\", \"apple\", \"grapes\", \"watermelon\"]\n",
    "for elements in fruits:\n",
    "    print(elements)"
   ]
  },
  {
   "cell_type": "code",
   "execution_count": 4,
   "id": "d385f1db",
   "metadata": {},
   "outputs": [
    {
     "name": "stdout",
     "output_type": "stream",
     "text": [
      "1\n",
      "2\n",
      "3\n",
      "4\n",
      "5\n",
      "6\n",
      "7\n",
      "8\n",
      "9\n",
      "next\n",
      "1\n",
      "3\n",
      "5\n",
      "7\n",
      "9\n"
     ]
    }
   ],
   "source": [
    "#  Range function in python --> use to generate the sequence of numbers \n",
    "for i in range(1, 10):\n",
    "    print(i)\n",
    "    \n",
    "print(\"next\")\n",
    "for i in range(1, 10, 2):\n",
    "    print(i)"
   ]
  },
  {
   "cell_type": "code",
   "execution_count": 8,
   "id": "c2c49bb4",
   "metadata": {},
   "outputs": [
    {
     "name": "stdout",
     "output_type": "stream",
     "text": [
      "0\n",
      "1\n",
      "2\n",
      "3\n",
      "4\n",
      "5\n",
      "6\n",
      "7\n",
      "8\n",
      "9\n",
      "This is inside else of for\n"
     ]
    }
   ],
   "source": [
    "# for with else\n",
    "for i in range(10):\n",
    "    print(i)\n",
    "else:\n",
    "    print(\"This is inside else of for\")  # when for loop end than else execute"
   ]
  },
  {
   "cell_type": "code",
   "execution_count": 12,
   "id": "6488c3e0",
   "metadata": {},
   "outputs": [
    {
     "name": "stdout",
     "output_type": "stream",
     "text": [
      "0\n",
      "1\n",
      "2\n",
      "3\n",
      "4\n",
      "5\n"
     ]
    }
   ],
   "source": [
    "# break statement\n",
    "for i in range(10):\n",
    "    print(i)\n",
    "    if(i == 5):\n",
    "        break"
   ]
  },
  {
   "cell_type": "code",
   "execution_count": 22,
   "id": "ed641385",
   "metadata": {
    "scrolled": true
   },
   "outputs": [
    {
     "name": "stdout",
     "output_type": "stream",
     "text": [
      "0\n",
      "1\n",
      "2\n",
      "3\n",
      "4\n",
      "6\n",
      "7\n",
      "8\n",
      "9\n"
     ]
    }
   ],
   "source": [
    "# continue statement\n",
    "for i in range(10):\n",
    "    if(i == 5):\n",
    "        continue\n",
    "    print(i)"
   ]
  },
  {
   "cell_type": "code",
   "execution_count": 12,
   "id": "feb8b001",
   "metadata": {},
   "outputs": [
    {
     "name": "stdout",
     "output_type": "stream",
     "text": [
      "Tooba is good girl\n"
     ]
    }
   ],
   "source": [
    "# pass statement \n",
    "# agr me chahti hun ye condition me aese hi chor dun bad me implement krun so i can use pass which means do nothing\n",
    "i = 4\n",
    "if (i>0):\n",
    "    pass\n",
    "\n",
    "print(\"Tooba is good girl\")"
   ]
  },
  {
   "cell_type": "code",
   "execution_count": null,
   "id": "ab33d0f9",
   "metadata": {},
   "outputs": [],
   "source": [
    "marks = [78, 90, 67 ,80 ]\n",
    "percentage = (sum(marks)/400)*100\n",
    "print(percentage)\n",
    "\n",
    "\n",
    "def percentage(totalMarks, obtainedMarks):\n",
    "    return (obtainedMarks/totalMarks)*100\n",
    "\n",
    "print(\"Your Percentage is: \" , percentage(400,356))"
   ]
  },
  {
   "cell_type": "code",
   "execution_count": 7,
   "id": "72d169f8",
   "metadata": {},
   "outputs": [
    {
     "name": "stdout",
     "output_type": "stream",
     "text": [
      "---Welcome to percentage calculator\n",
      "marks of subject 1: 78\n",
      "Marks of subject 2: 89\n",
      "Marks of subject 3: 98\n",
      "Marks of subject 4: 76\n",
      "Marks of subject 5: 67\n",
      "Enter total marks: 500\n",
      "Your percentage is:  81.6\n"
     ]
    }
   ],
   "source": [
    "# functions and recursion\n",
    "print(\"---Welcome to percentage calculator\")\n",
    "sub1 = int(input(\"marks of subject 1: \"))\n",
    "sub2 = int(input(\"Marks of subject 2: \"))\n",
    "sub3 = int(input(\"Marks of subject 3: \"))\n",
    "sub4 = int(input(\"Marks of subject 4: \"))\n",
    "sub5 = int(input(\"Marks of subject 5: \"))\n",
    "sumOfObtainedMarks = sub1 + sub2 + sub3 + sub4 + sub5\n",
    "\n",
    "totalMarks = int(input(\"Enter total marks: \"))\n",
    "def percentage ():\n",
    "    return (sumOfObtainedMarks/totalMarks)*100\n",
    "\n",
    "print(\"Your percentage is: \", percentage())"
   ]
  },
  {
   "cell_type": "code",
   "execution_count": 1,
   "id": "a5313534",
   "metadata": {},
   "outputs": [
    {
     "name": "stdout",
     "output_type": "stream",
     "text": [
      "Your Percentage is:  67.2\n",
      "Your Percentage is:  64.0\n",
      "Your Percentage is:  71.6\n"
     ]
    }
   ],
   "source": [
    "sana = [78, 90, 67, 56 ,45]\n",
    "murk = [78, 67, 90, 67, 56]\n",
    "saba = [67, 56, 43, 87, 67]\n",
    "\n",
    "def percentage(marks):\n",
    "    return (sum(marks)/500)*100\n",
    "\n",
    "print(\"Your Percentage is: \", percentage(sana))\n",
    "print(\"Your Percentage is: \", percentage(saba))\n",
    "print(\"Your Percentage is: \", percentage(murk))"
   ]
  },
  {
   "cell_type": "code",
   "execution_count": 9,
   "id": "70bb83f4",
   "metadata": {},
   "outputs": [
    {
     "name": "stdout",
     "output_type": "stream",
     "text": [
      "Good Morning Tooba\n"
     ]
    }
   ],
   "source": [
    "# quick quiz\n",
    "def greet(name):\n",
    "    print(\"Good Morning \" + name)\n",
    "    \n",
    "greet(\"Tooba\")"
   ]
  },
  {
   "cell_type": "code",
   "execution_count": 10,
   "id": "62a7a0f8",
   "metadata": {},
   "outputs": [
    {
     "name": "stdout",
     "output_type": "stream",
     "text": [
      "134\n"
     ]
    }
   ],
   "source": [
    "def sum(num1, num2):\n",
    "    return num1 + num2\n",
    "\n",
    "print(sum(56,78))"
   ]
  },
  {
   "cell_type": "code",
   "execution_count": 3,
   "id": "434875e8",
   "metadata": {},
   "outputs": [
    {
     "name": "stdout",
     "output_type": "stream",
     "text": [
      "Good Morning Tooba\n",
      "Good Morning Unknown\n"
     ]
    }
   ],
   "source": [
    "# default argument in functions\n",
    "def greet(name = \"Unknown\"):  # unknown is default value where if argument is not pass\n",
    "    print(\"Good Morning \" + name)\n",
    "    \n",
    "greet(\"Tooba\")\n",
    "greet()"
   ]
  },
  {
   "cell_type": "code",
   "execution_count": 1,
   "id": "d2dc44ae",
   "metadata": {},
   "outputs": [
    {
     "name": "stdout",
     "output_type": "stream",
     "text": [
      "120\n",
      "24\n"
     ]
    }
   ],
   "source": [
    "# Recursion --> it is a function which called itsself. it is used when math formula as function\n",
    "# n! = 1 * 2 * 3 .... * n\n",
    "\n",
    "def factorial(n):\n",
    "    product = 1\n",
    "    for i in range(n):\n",
    "        product = product * (i+1)\n",
    "    return product\n",
    "\n",
    "f = factorial(5)\n",
    "print(f)\n",
    "\n",
    "\n",
    "# n! = n * (n-1)!\n",
    "# This by recursion\n",
    "def factorialRecursion(n):\n",
    "    if(n == 1 or n == 0):\n",
    "        return 1\n",
    "    return n * factorialRecursion(n-1)\n",
    "\n",
    "print(factorialRecursion(4))"
   ]
  },
  {
   "cell_type": "code",
   "execution_count": 10,
   "id": "6d831cc0",
   "metadata": {},
   "outputs": [
    {
     "name": "stdout",
     "output_type": "stream",
     "text": [
      "The sum of a and b:  35\n",
      "The sum of two numbers are:  123\n"
     ]
    }
   ],
   "source": [
    "\n",
    "a = 12\n",
    "b = 23\n",
    "print(\"The sum of a and b: \", a+ b)\n",
    "\n",
    "\n",
    "# object oriented programing\n",
    "class Number: # class\n",
    "    def sum(self):  # function\n",
    "        return self.a + self.b\n",
    "\n",
    "obj = Number()  # object\n",
    "obj.a = 56\n",
    "obj.b = 67\n",
    "print(\"The sum of two numbers are: \", obj.sum())"
   ]
  },
  {
   "cell_type": "code",
   "execution_count": 17,
   "id": "a2df124b",
   "metadata": {},
   "outputs": [
    {
     "name": "stdout",
     "output_type": "stream",
     "text": [
      "Name: Tooba\n",
      "Train: Rajdhani express\n"
     ]
    }
   ],
   "source": [
    "# example railway\n",
    "\n",
    "class RailwayForm:\n",
    "    def printData(self):\n",
    "        print(f\"Name: {self.name}\")\n",
    "        print(f\"Train: {self.train}\")\n",
    "    \n",
    "toobasApplication = RailwayForm()\n",
    "toobasApplication.name = \"Tooba\"\n",
    "toobasApplication.train = \"Rajdhani express\"\n",
    "toobasApplication.printData()"
   ]
  },
  {
   "cell_type": "code",
   "execution_count": null,
   "id": "3bf2f1e5",
   "metadata": {},
   "outputs": [],
   "source": [
    "# game\n",
    "class Player:\n",
    "    def moveRight(self):\n",
    "        pass\n",
    "    \n",
    "     def moveLeft(self):\n",
    "        pass\n",
    "    \n",
    "     def moveTop(self):\n",
    "        pass\n",
    "\n",
    "class Remote:\n",
    "    pass\n",
    "    \n",
    "remote1 = Remote()\n",
    "player1 = Player()\n",
    "if (remote1.isLeftpressed()):\n",
    "    player1.moveLeft()"
   ]
  },
  {
   "cell_type": "code",
   "execution_count": 4,
   "id": "2428fbda",
   "metadata": {},
   "outputs": [
    {
     "name": "stdout",
     "output_type": "stream",
     "text": [
      "Toobas Company: Google\n",
      "Harrys Company: Google\n",
      "Tooba salary:  566666\n",
      "Harry salary:  78799\n",
      "Toobas Company: Microsoft\n",
      "HarrysCompany: Microsoft\n"
     ]
    }
   ],
   "source": [
    "# example\n",
    "\n",
    "# class attributes\n",
    "class Employee:\n",
    "    company = \"Google\" # it is attribute. supppose all employee work on google company in future its became change\n",
    "    salary = 100\n",
    "    \n",
    "tooba = Employee()\n",
    "harry = Employee()\n",
    "\n",
    "# instance attributes\n",
    "tooba.salary = 566666\n",
    "harry.salary = 78799\n",
    "\n",
    "\n",
    "print(\"Toobas Company:\", tooba.company)\n",
    "print(\"Harrys Company:\", harry.company)\n",
    "print(\"Tooba salary: \", tooba.salary)\n",
    "print(\"Harry salary: \", harry.salary)\n",
    "    \n",
    "# in future its became change ompany name \n",
    "Employee.company = \"Microsoft\"  # instace variable\n",
    "print(\"Toobas Company:\", tooba.company)\n",
    "print(\"HarrysCompany:\", harry.company)"
   ]
  },
  {
   "cell_type": "code",
   "execution_count": 3,
   "id": "d78fa7df",
   "metadata": {},
   "outputs": [
    {
     "name": "stdout",
     "output_type": "stream",
     "text": [
      "Salary of Tooba is 1000000 she is working in company Google\n",
      "Thanks!\n",
      "God Morning, Sir\n"
     ]
    }
   ],
   "source": [
    "# self is like a variable parameter\n",
    "\n",
    "class Employee:\n",
    "    company = \"Google\"\n",
    "    \n",
    "    def getSalary(self, signature):\n",
    "        print(f\"Salary of {self.name} is {self.salary} she is working in company {self.company}\\n{signature}\")\n",
    "\n",
    "    @staticmethod\n",
    "    def greet():\n",
    "        print(\"God Morning, Sir\")\n",
    "        \n",
    "tooba = Employee()\n",
    "\n",
    "tooba.salary = 1000000\n",
    "tooba.name = \"Tooba\"\n",
    "tooba.getSalary(\"Thanks!\")\n",
    "tooba.greet()\n"
   ]
  },
  {
   "cell_type": "code",
   "execution_count": 106,
   "id": "0152f11b",
   "metadata": {},
   "outputs": [
    {
     "name": "stdout",
     "output_type": "stream",
     "text": [
      "Emplyee is created\n",
      "name:  tooba\n",
      "salary:  1000000\n",
      "subunit:  google\n"
     ]
    }
   ],
   "source": [
    "# constructor\n",
    "class Employee:\n",
    "    company = \"Google\"\n",
    "    \n",
    "    def __init__(self, name, salary, subunit):\n",
    "        self.name = name \n",
    "        self.salary = salary\n",
    "        self.subunit = subunit\n",
    "        print(\"Emplyee is created\") # constructor\n",
    "    \n",
    "    def getDetails(self):\n",
    "        print(\"name: \", self.name)\n",
    "        print(\"salary: \", self.salary)\n",
    "        print(\"subunit: \", self.subunit)\n",
    "        \n",
    "tooba = Employee(\"tooba\", 1000000, \"google\")\n",
    "tooba.getDetails()\n"
   ]
  },
  {
   "cell_type": "code",
   "execution_count": 20,
   "id": "5f185dc1",
   "metadata": {
    "scrolled": true
   },
   "outputs": [
    {
     "name": "stdout",
     "output_type": "stream",
     "text": [
      "This is an employee\n",
      "amazon\n",
      "Python\n",
      "The language is Python\n",
      "amazon\n",
      "This is a programmer\n"
     ]
    }
   ],
   "source": [
    "# inheritance and more oops\n",
    "# parent class\n",
    "class Employee:    # class\n",
    "    company = \"amazon\"\n",
    "    \n",
    "    def showDetails(self):\n",
    "        print(\"This is an employee\")\n",
    "        \n",
    "# child class  \n",
    "class Programmer(Employee):   # class programmer is inherite from class employee\n",
    "    language = \"Python\"\n",
    "    \n",
    "    def getLang(self):\n",
    "        print(f\"The language is {self.language}\")\n",
    "        \n",
    "    def showDetails(self):       # this show detail is overrides \n",
    "        print(\"This is a programmer\")\n",
    "        \n",
    "e = Employee()\n",
    "e.showDetails()\n",
    "print(e.company)\n",
    "# e.getLang()  --> cannnot run\n",
    "\n",
    "p = Programmer()\n",
    "print(p.language)\n",
    "p.getLang()\n",
    "print(p.company)\n",
    "p.showDetails()"
   ]
  },
  {
   "cell_type": "code",
   "execution_count": 41,
   "id": "c2917d21",
   "metadata": {},
   "outputs": [
    {
     "name": "stdout",
     "output_type": "stream",
     "text": [
      "30\n",
      "-10\n",
      "30\n"
     ]
    }
   ],
   "source": [
    "# types of inheritance\n",
    "# single inheritance\n",
    "\n",
    "class Parent:\n",
    "    def __init__(self, a, b):\n",
    "        self.a = a\n",
    "        self.b = b\n",
    "        \n",
    "    def add(self):\n",
    "        return self.a + self.b\n",
    "\n",
    "class Child(Parent):\n",
    "        \n",
    "    def sub(self):\n",
    "        return self.a - self.b\n",
    "    \n",
    "p = Parent(10, 20)\n",
    "print(p.add())\n",
    "\n",
    "c = Child(10, 20)\n",
    "print(c.sub())\n",
    "print(c.add())"
   ]
  },
  {
   "cell_type": "code",
   "execution_count": 50,
   "id": "15857ed9",
   "metadata": {},
   "outputs": [
    {
     "name": "stdout",
     "output_type": "stream",
     "text": [
      "Visa\n",
      "1\n",
      "120\n",
      "Tooba\n"
     ]
    }
   ],
   "source": [
    "# multiple inheritance\n",
    "# child class inherits from more than one parent class\n",
    "class Employee:\n",
    "    company = \"Visa\"\n",
    "    eCode = 120\n",
    "    \n",
    "class Freelancer:\n",
    "    company = \"Fiver\"\n",
    "    level = 0\n",
    "    \n",
    "    def upgradeLevel(self):\n",
    "        self.level = self.level + 1\n",
    "\n",
    "class Programmer(Employee, Freelancer):\n",
    "    name = \"Tooba\"\n",
    "    \n",
    "e = Employee()\n",
    "\n",
    "f = Freelancer()\n",
    "\n",
    "p = Programmer()\n",
    "print(p.company)\n",
    "p.upgradeLevel()\n",
    "print(p.level)\n",
    "print(p.eCode)\n",
    "print(p.name)"
   ]
  },
  {
   "cell_type": "code",
   "execution_count": 61,
   "id": "e68af3fb",
   "metadata": {
    "scrolled": true
   },
   "outputs": [
    {
     "name": "stdout",
     "output_type": "stream",
     "text": [
      "Pakistan\n",
      "I am breathing...\n",
      "Amazon\n",
      "salary is <bound method Employee.salary of <__main__.Employee object at 0x0000026F6D6F6410>>\n",
      "I am breathing...\n",
      "Pakistan\n",
      "fiver\n",
      "no salary\n",
      "I am breathing...\n",
      "Pakistan\n",
      "hello\n"
     ]
    }
   ],
   "source": [
    "# multilevel inheritance\n",
    "# parent class extended by more than one child classes\n",
    "class Person:\n",
    "    country = \"Pakistan\"\n",
    "    \n",
    "    def breath(self):\n",
    "        print(\"I am breathing...\")\n",
    "\n",
    "class Employee(Person):\n",
    "    company = \"Amazon\"\n",
    "    \n",
    "    def salary(self, salary):\n",
    "        print(f\"salary is {self.salary}\")\n",
    "\n",
    "class Programmer(Employee):\n",
    "    company = \"fiver\"\n",
    "    \n",
    "    def salary(self):\n",
    "        print(\"no salary\")\n",
    "        \n",
    "    def greet(self):\n",
    "        print(\"hello\")\n",
    "        \n",
    "p = Person()\n",
    "print(p.country)\n",
    "p.breath()\n",
    "\n",
    "e = Employee()\n",
    "print(e.company)\n",
    "e.salary(6)\n",
    "e.breath()\n",
    "print(e.country)\n",
    "\n",
    "pr = Programmer()\n",
    "print(pr.company)\n",
    "pr.salary()\n",
    "pr.breath()\n",
    "print(pr.country)\n",
    "pr.greet()"
   ]
  },
  {
   "cell_type": "code",
   "execution_count": 1,
   "id": "e3e077fa",
   "metadata": {},
   "outputs": [
    {
     "name": "stdout",
     "output_type": "stream",
     "text": [
      "Initializing constructor parent\n",
      "I am a parent breath\n",
      "********\n",
      "Initializing constructor parent\n",
      "Initializing constructor child\n",
      "I am a parent breath\n",
      "I am child breath\n",
      "********\n",
      "Initializing constructor parent\n",
      "Initializing constructor child\n",
      "Initializing constructor pre child\n",
      "I am a parent breath\n",
      "I am child breath\n",
      "I am a pre child breath\n"
     ]
    }
   ],
   "source": [
    "# super method is used to to access the methods of parent class in the child class\n",
    "class parent:\n",
    "    def __init__(self):\n",
    "        print(\"Initializing constructor parent\")\n",
    "        \n",
    "    name = \"laiba\"\n",
    "    def breath(self):\n",
    "        print(\"I am a parent breath\")\n",
    "\n",
    "        \n",
    "class child(parent):\n",
    "    def __init__(self):\n",
    "        super().__init__()\n",
    "        print(\"Initializing constructor child\")\n",
    "    \n",
    "    def breath(self):\n",
    "        super().breath()\n",
    "        print(\"I am child breath\")\n",
    "    \n",
    "    def getFood(self):\n",
    "        print(\"children getting food\")\n",
    "        \n",
    "        \n",
    "class preChild(child):\n",
    "    def __init__(self):\n",
    "        super().__init__()\n",
    "        print(\"Initializing constructor pre child\")\n",
    "    \n",
    "    def breath(self):\n",
    "        super().breath()\n",
    "        print(\"I am a pre child breath\")\n",
    "        \n",
    "    def shopping(self):\n",
    "        print(\"Going to shopping\")\n",
    "        \n",
    "\n",
    "# p = parent()\n",
    "# print(p.name)\n",
    "# p.breath()\n",
    "# print(\"***********\")\n",
    "\n",
    "# c = child()\n",
    "# print(c.name)\n",
    "# c.breath()\n",
    "# c.getFood()\n",
    "# print(\"************\")\n",
    "\n",
    "# c1 = preChild()\n",
    "# print(c1.name)\n",
    "# c1.breath()\n",
    "# c1.getFood()\n",
    "# c1.shopping()\n",
    "\n",
    "\n",
    "# super\n",
    "p = parent()\n",
    "p.breath()\n",
    "print(\"********\")\n",
    "\n",
    "c = child()\n",
    "c.breath()\n",
    "print(\"********\")\n",
    "\n",
    "c1 = preChild()\n",
    "c1.breath()"
   ]
  },
  {
   "cell_type": "code",
   "execution_count": 7,
   "id": "9805672b",
   "metadata": {},
   "outputs": [
    {
     "name": "stdout",
     "output_type": "stream",
     "text": [
      "5600\n"
     ]
    }
   ],
   "source": [
    "# property decorator\n",
    "class employee:\n",
    "    company = \"google\"\n",
    "    salary = 5000\n",
    "    bonus = 600\n",
    "#     totalSalary = 5500\n",
    "    \n",
    "    @property  #(it is also a getter) it is look like a function but in actually it is a property work like property\n",
    "    # if we change the salary and bonus total salary automatically will be change\n",
    "    def totalSalary(self):\n",
    "        return self.salary + self.bonus\n",
    "      \n",
    "e = employee()\n",
    "print(e.totalSalary)"
   ]
  },
  {
   "cell_type": "code",
   "execution_count": 4,
   "id": "4205b3ec",
   "metadata": {},
   "outputs": [],
   "source": [
    "\n",
    "num = 29\n",
    "\n",
    "# To take input from the user\n",
    "#num = int(input(\"Enter a number: \"))\n",
    "\n",
    "# define a flag variable\n",
    "flag = False\n",
    "\n",
    "# prime numbers are greater than 1\n",
    "if num > 1:\n",
    "    # check for factors\n",
    "    for i in range(2, num):\n",
    "        if (num % i) == 0:\n",
    "            # if factor is found, set flag to True\n",
    "            flag = True\n",
    "            # break out of loop\n",
    "            break"
   ]
  },
  {
   "cell_type": "code",
   "execution_count": 16,
   "id": "53362f54",
   "metadata": {},
   "outputs": [
    {
     "name": "stdout",
     "output_type": "stream",
     "text": [
      "enter text: this is a string\n",
      "this is a string\n",
      "thi$ i$ a $tring\n"
     ]
    }
   ],
   "source": [
    "a = input(\"enter text: \")\n",
    "print(a)\n",
    "text = a.replace(a[3], \"$\")\n",
    "print(text)\n"
   ]
  },
  {
   "cell_type": "code",
   "execution_count": 21,
   "id": "4c9125b4",
   "metadata": {
    "scrolled": false
   },
   "outputs": [
    {
     "name": "stdout",
     "output_type": "stream",
     "text": [
      "enter text: this is a string\n",
      "this is a string\n",
      "thi$ i$ a $tring\n"
     ]
    }
   ],
   "source": [
    "a = input(\"enter text: \")\n",
    "print(a)\n",
    "text = a.replace(a[3], \"$\")\n",
    "print(text)"
   ]
  },
  {
   "cell_type": "code",
   "execution_count": 6,
   "id": "027badb9",
   "metadata": {},
   "outputs": [
    {
     "name": "stdout",
     "output_type": "stream",
     "text": [
      "Hello world\n",
      "5\n",
      "5\n",
      "7\n"
     ]
    }
   ],
   "source": [
    "print(\"Hello world\")\n",
    "print(5)\n",
    "print(\"5\")\n",
    "i = 7\n",
    "print(i)\n",
    "a = \"areeba\""
   ]
  },
  {
   "cell_type": "code",
   "execution_count": null,
   "id": "59330e3c",
   "metadata": {},
   "outputs": [],
   "source": []
  }
 ],
 "metadata": {
  "kernelspec": {
   "display_name": "Python 3 (ipykernel)",
   "language": "python",
   "name": "python3"
  },
  "language_info": {
   "codemirror_mode": {
    "name": "ipython",
    "version": 3
   },
   "file_extension": ".py",
   "mimetype": "text/x-python",
   "name": "python",
   "nbconvert_exporter": "python",
   "pygments_lexer": "ipython3",
   "version": "3.10.2"
  }
 },
 "nbformat": 4,
 "nbformat_minor": 5
}
